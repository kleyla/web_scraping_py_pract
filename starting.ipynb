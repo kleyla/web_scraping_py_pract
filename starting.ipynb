{
  "nbformat": 4,
  "nbformat_minor": 0,
  "metadata": {
    "colab": {
      "name": "starting.ipynb",
      "provenance": [],
      "collapsed_sections": [],
      "toc_visible": true,
      "mount_file_id": "1zjoFd-vK_0llRpwC3rrg3f_8jvUqoFWj",
      "authorship_tag": "ABX9TyPccf+MvffdsYrneyIllM97",
      "include_colab_link": true
    },
    "kernelspec": {
      "name": "python3",
      "display_name": "Python 3"
    }
  },
  "cells": [
    {
      "cell_type": "markdown",
      "metadata": {
        "id": "view-in-github",
        "colab_type": "text"
      },
      "source": [
        "<a href=\"https://colab.research.google.com/github/kleyla/web_scraping_py_pract/blob/master/starting.ipynb\" target=\"_parent\"><img src=\"https://colab.research.google.com/assets/colab-badge.svg\" alt=\"Open In Colab\"/></a>"
      ]
    },
    {
      "cell_type": "markdown",
      "metadata": {
        "id": "8vh2UzZr58mr",
        "colab_type": "text"
      },
      "source": [
        "**Python Web Scraping**"
      ]
    },
    {
      "cell_type": "code",
      "metadata": {
        "id": "CseBQQ5HgGWf",
        "colab_type": "code",
        "colab": {}
      },
      "source": [
        "from urllib.request import urlopen\n",
        "from bs4 import BeautifulSoup"
      ],
      "execution_count": 0,
      "outputs": []
    },
    {
      "cell_type": "code",
      "metadata": {
        "id": "eAfB3PeugPgN",
        "colab_type": "code",
        "colab": {}
      },
      "source": [
        "html = urlopen(\"http://pythonscraping.com/pages/page1.html\")  "
      ],
      "execution_count": 0,
      "outputs": []
    },
    {
      "cell_type": "code",
      "metadata": {
        "id": "xV6Y4bOq0tx_",
        "colab_type": "code",
        "outputId": "be2f4089-8e1b-40dd-b5dc-069eedf1b32f",
        "colab": {
          "base_uri": "https://localhost:8080/",
          "height": 34
        }
      },
      "source": [
        "# print(html.read())\n",
        "bs_obj = BeautifulSoup(html.read())\n",
        "print(bs_obj.h1)"
      ],
      "execution_count": 0,
      "outputs": [
        {
          "output_type": "stream",
          "text": [
            "<h1>An Interesting Title</h1>\n"
          ],
          "name": "stdout"
        }
      ]
    },
    {
      "cell_type": "code",
      "metadata": {
        "id": "OsQEsijB0216",
        "colab_type": "code",
        "colab": {}
      },
      "source": [
        ""
      ],
      "execution_count": 0,
      "outputs": []
    },
    {
      "cell_type": "markdown",
      "metadata": {
        "id": "Mt31cIcJ3Prg",
        "colab_type": "text"
      },
      "source": [
        "# Sección nueva"
      ]
    }
  ]
}